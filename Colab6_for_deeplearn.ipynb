{
  "nbformat": 4,
  "nbformat_minor": 0,
  "metadata": {
    "colab": {
      "name": "Colab6-for-deeplearn.ipynb",
      "version": "0.3.2",
      "provenance": [],
      "collapsed_sections": [],
      "include_colab_link": true
    },
    "kernelspec": {
      "name": "python3",
      "display_name": "Python 3"
    }
  },
  "cells": [
    {
      "cell_type": "markdown",
      "metadata": {
        "id": "view-in-github",
        "colab_type": "text"
      },
      "source": [
        "<a href=\"https://colab.research.google.com/github/nahilsobh/BBox-Label-Tool/blob/master/Colab6_for_deeplearn.ipynb\" target=\"_parent\"><img src=\"https://colab.research.google.com/assets/colab-badge.svg\" alt=\"Open In Colab\"/></a>"
      ]
    },
    {
      "metadata": {
        "id": "ODgeZpQEfS_Y",
        "colab_type": "code",
        "outputId": "823c5a21-87aa-44d4-8efa-faaa5d8b6dbb",
        "colab": {
          "base_uri": "https://localhost:8080/",
          "height": 204
        }
      },
      "cell_type": "code",
      "source": [
        "# ----------------\n",
        "!wget --no-check-certificate \\\n",
        "        https://storage.googleapis.com/applied-dl/mini_flowers.zip \\\n",
        "      -O /tmp/mini_flowers.zip\n",
        "  \n",
        "# ----------------\n",
        "import os\n",
        "import zipfile\n",
        "\n",
        "local_zip = '/tmp/mini_flowers.zip'\n",
        "\n",
        "zip_ref   = zipfile.ZipFile(local_zip, 'r')\n",
        "\n",
        "zip_ref.extractall('/tmp/flowers')\n",
        "zip_ref.close()\n"
      ],
      "execution_count": 3,
      "outputs": [
        {
          "output_type": "stream",
          "text": [
            "--2019-02-09 03:44:58--  https://storage.googleapis.com/applied-dl/mini_flowers.zip\n",
            "Resolving storage.googleapis.com (storage.googleapis.com)... 74.125.141.128, 2607:f8b0:400c:c06::80\n",
            "Connecting to storage.googleapis.com (storage.googleapis.com)|74.125.141.128|:443... connected.\n",
            "HTTP request sent, awaiting response... 200 OK\n",
            "Length: 40110537 (38M) [application/zip]\n",
            "Saving to: ‘/tmp/mini_flowers.zip’\n",
            "\n",
            "\r/tmp/mini_flowers.z   0%[                    ]       0  --.-KB/s               \r/tmp/mini_flowers.z 100%[===================>]  38.25M   195MB/s    in 0.2s    \n",
            "\n",
            "2019-02-09 03:44:58 (195 MB/s) - ‘/tmp/mini_flowers.zip’ saved [40110537/40110537]\n",
            "\n"
          ],
          "name": "stdout"
        }
      ]
    },
    {
      "metadata": {
        "id": "0Xq5mXA4giZ6",
        "colab_type": "code",
        "outputId": "1a4454ac-41ca-4704-e80b-491502285652",
        "colab": {
          "base_uri": "https://localhost:8080/",
          "height": 85
        }
      },
      "cell_type": "code",
      "source": [
        "# ----------------\n",
        "import tensorflow                           as     tf\n",
        "from   tensorflow.keras.optimizers          import RMSprop\n",
        "from   tensorflow.keras.preprocessing.image import ImageDataGenerator\n",
        "\n",
        "# ----------------\n",
        "base_dir = '/tmp/flowers'\n",
        "\n",
        "train_dir      = os.path.join( base_dir, 'train' )\n",
        "validation_dir = os.path.join( base_dir, 'val'   )\n",
        "\n",
        "model = tf.keras.models.Sequential([\n",
        "    # Note the input shape is the desired size of the image 150x150 with 3 bytes color\n",
        "    \n",
        "\n",
        "    tf.keras.layers.Conv2D      ( 16, (3,3), activation='relu', input_shape=(150, 150, 3)), # First convolution\n",
        "    tf.keras.layers.MaxPooling2D      (2,2)                       , # First  max pooling \n",
        "    \n",
        "    tf.keras.layers.Conv2D      ( 32, (3,3), activation='relu'   ), # Second convoution\n",
        "    tf.keras.layers.MaxPooling2D      (2,2),                        # Second max pooling \n",
        "    \n",
        "    tf.keras.layers.Conv2D      ( 64, (3,3), activation='relu'   ), # Third  convolution\n",
        "    tf.keras.layers.MaxPooling2D      (2,2)                       , # Third  max pooling\n",
        "    \n",
        "    tf.keras.layers.Flatten     ()                                , # Flatten the results to feed into a DNN\n",
        "    \n",
        "    tf.keras.layers.Dense       (512,        activation='relu'   ), # 512 neuron hidden layer\n",
        "    \n",
        "    tf.keras.layers.Dense       (  5,        activation='sigmoid')  #We have 5 classes (see the directory), \n",
        "                                                                    # so 5 output neurons.  \n",
        "])\n",
        "\n",
        "# ----------------\n",
        "# Check out the loss function here: \n",
        "# ----------------\n",
        "model.compile( optimizer =   RMSprop(lr=0.001)    ,\n",
        "                    loss =  'categorical_crossentropy' ,\n",
        "                 metrics = ['acc']\n",
        "             )\n",
        "\n",
        "# All images will be rescaled by 1./255.\n",
        "train_datagen = ImageDataGenerator( rescale = 1.0/255. )\n",
        "test_datagen  = ImageDataGenerator( rescale = 1.0/255. )\n",
        "\n",
        "\n",
        "# --------------------\n",
        "# Flow training images in batches of 20 using train_datagen generator\n",
        "# --------------------\n",
        "train_generator      = train_datagen.flow_from_directory( train_dir                   , # directory for training images\n",
        "                                                          batch_size  = 20            ,\n",
        "                                                          class_mode  = 'categorical' , # categorical labels to use with categorical_crossentropy loss\n",
        "                                                          target_size = (150, 150)      # All images are resized to 150x150\n",
        "                                                         \n",
        "                                                        )     \n",
        "# --------------------\n",
        "# Flow validation images in batches of 20 using test_datagen generator\n",
        "# --------------------\n",
        "validation_generator =  test_datagen.flow_from_directory( validation_dir              ,\n",
        "                                                          batch_size  = 20            ,\n",
        "                                                          class_mode  = 'categorical' , \n",
        "                                                          target_size = (150, 150)    ,\n",
        "                                                        )\n",
        "\n",
        "history = model.fit_generator( train_generator                         ,\n",
        "                               validation_data  = validation_generator ,\n",
        "                               steps_per_epoch  = 100                  ,  # 2000 images = batch_size * steps\n",
        "                               epochs           =  15                  ,\n",
        "                               validation_steps =  50                  ,  # 1000 images = batch_size * steps\n",
        "                               verbose          =   2                     # Verbosity mode (one line per epoch)\n",
        "                             )\n"
      ],
      "execution_count": 7,
      "outputs": [
        {
          "output_type": "stream",
          "text": [
            "Found 1000 images belonging to 5 classes.\n",
            "Found 500 images belonging to 5 classes.\n",
            "25/25 [==============================] - 7s 273ms/step - loss: 1.5534 - acc: 0.3140\n",
            " - 41s - loss: 1.6842 - acc: 0.2260 - val_loss: 1.5534 - val_acc: 0.3140\n"
          ],
          "name": "stdout"
        }
      ]
    },
    {
      "metadata": {
        "id": "E0Ou4IiivDFA",
        "colab_type": "code",
        "outputId": "878340bb-1919-4013-e4ee-0a00c4e7f484",
        "colab": {
          "base_uri": "https://localhost:8080/",
          "height": 204
        }
      },
      "cell_type": "code",
      "source": [
        "# ----------------\n",
        "!wget --no-check-certificate \\\n",
        "        http://download.tensorflow.org/example_images/flower_photos.tgz \\\n",
        "      -O /tmp/flower_photos.zip\n",
        "\n",
        "!tar -xzf /tmp/flower_photos.zip\n",
        "# ----------------"
      ],
      "execution_count": 8,
      "outputs": [
        {
          "output_type": "stream",
          "text": [
            "--2019-02-09 06:31:14--  http://download.tensorflow.org/example_images/flower_photos.tgz\n",
            "Resolving download.tensorflow.org (download.tensorflow.org)... 74.125.141.128, 2607:f8b0:400c:c06::80\n",
            "Connecting to download.tensorflow.org (download.tensorflow.org)|74.125.141.128|:80... connected.\n",
            "HTTP request sent, awaiting response... 200 OK\n",
            "Length: 228813984 (218M) [application/x-compressed-tar]\n",
            "Saving to: ‘/tmp/flower_photos.zip’\n",
            "\n",
            "/tmp/flower_photos. 100%[===================>] 218.21M  89.2MB/s    in 2.4s    \n",
            "\n",
            "2019-02-09 06:31:16 (89.2 MB/s) - ‘/tmp/flower_photos.zip’ saved [228813984/228813984]\n",
            "\n"
          ],
          "name": "stdout"
        }
      ]
    },
    {
      "metadata": {
        "id": "Rdef5S4uwFJs",
        "colab_type": "code",
        "outputId": "cdac0eed-84a6-469b-d456-ef6c0285fd0e",
        "colab": {
          "base_uri": "https://localhost:8080/",
          "height": 51
        }
      },
      "cell_type": "code",
      "source": [
        "base_dir  = '/tmp/flowers'\n",
        "\n",
        "train_dir      = 'flower_photos'\n",
        "validation_dir = os.path.join( base_dir, 'val'   )\n",
        "\n",
        "model = tf.keras.models.Sequential([\n",
        "    # Note the input shape is the desired size of the image 150x150 with 3 bytes color\n",
        "    \n",
        "\n",
        "    tf.keras.layers.Conv2D      ( 16, (3,3), activation='relu', input_shape=(150, 150, 3)), # First convolution\n",
        "    tf.keras.layers.MaxPooling2D      (2,2)                       , # First  max pooling \n",
        "    \n",
        "    tf.keras.layers.Conv2D      ( 32, (3,3), activation='relu'   ), # Second convoution\n",
        "    tf.keras.layers.MaxPooling2D      (2,2),                        # Second max pooling \n",
        "    \n",
        "    tf.keras.layers.Conv2D      ( 64, (3,3), activation='relu'   ), # Third  convolution\n",
        "    tf.keras.layers.MaxPooling2D      (2,2)                       , # Third  max pooling\n",
        "    \n",
        "    tf.keras.layers.Flatten     ()                                , # Flatten the results to feed into a DNN\n",
        "    \n",
        "    tf.keras.layers.Dense       (512,        activation='relu'   ), # 512 neuron hidden layer\n",
        "    \n",
        "    tf.keras.layers.Dense       (  5,        activation='sigmoid')  #We have 5 classes (see the directory), \n",
        "                                                                    # so 5 output neurons.  \n",
        "])\n",
        "\n",
        "\n",
        "# ----------------\n",
        "# Check out the loss function here: \n",
        "# ----------------\n",
        "model.compile( optimizer =   RMSprop(lr=0.001)    ,\n",
        "                    loss =  'categorical_crossentropy' ,\n",
        "                 metrics = ['acc']\n",
        "             )\n",
        "\n",
        "# All images will be rescaled by 1./255.\n",
        "train_datagen = ImageDataGenerator( rescale = 1.0/255. )\n",
        "test_datagen  = ImageDataGenerator( rescale = 1.0/255. )\n",
        "\n",
        "\n",
        "# --------------------\n",
        "# Flow training images in batches of 20 using train_datagen generator\n",
        "# --------------------\n",
        "train_generator      = train_datagen.flow_from_directory( train_dir                   , # directory for training images\n",
        "                                                          batch_size  = 20            ,\n",
        "                                                          class_mode  = 'categorical' , # categorical labels to use with categorical_crossentropy loss\n",
        "                                                          target_size = (150, 150)      # All images are resized to 150x150\n",
        "                                                         \n",
        "                                                        )     \n",
        "# --------------------\n",
        "# Flow validation images in batches of 20 using test_datagen generator\n",
        "# --------------------\n",
        "validation_generator =  test_datagen.flow_from_directory( validation_dir              ,\n",
        "                                                          batch_size  = 20            ,\n",
        "                                                          class_mode  = 'categorical' , \n",
        "                                                          target_size = (150, 150)    ,\n",
        "                                                        )\n",
        "\n",
        "\n",
        "history = model.fit_generator( train_generator                         ,\n",
        "                               validation_data  = validation_generator ,\n",
        "                               steps_per_epoch  = 100                  ,  # 2000 images = batch_size * steps\n",
        "                               epochs           =  15                  ,\n",
        "                               validation_steps =  50                  ,  # 1000 images = batch_size * steps\n",
        "                               verbose          =   2                     # Verbosity mode (one line per epoch)\n",
        "                             )\n"
      ],
      "execution_count": 0,
      "outputs": [
        {
          "output_type": "stream",
          "text": [
            "Found 3670 images belonging to 5 classes.\n",
            "Found 500 images belonging to 5 classes.\n"
          ],
          "name": "stdout"
        }
      ]
    }
  ]
}