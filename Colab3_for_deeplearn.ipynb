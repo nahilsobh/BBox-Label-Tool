{
  "nbformat": 4,
  "nbformat_minor": 0,
  "metadata": {
    "colab": {
      "name": "Colab3-for-deeplearn.ipynb",
      "version": "0.3.2",
      "provenance": [],
      "collapsed_sections": [],
      "toc_visible": true,
      "include_colab_link": true
    },
    "kernelspec": {
      "name": "python3",
      "display_name": "Python 3"
    }
  },
  "cells": [
    {
      "cell_type": "markdown",
      "metadata": {
        "id": "view-in-github",
        "colab_type": "text"
      },
      "source": [
        "<a href=\"https://colab.research.google.com/github/nahilsobh/BBox-Label-Tool/blob/master/Colab3_for_deeplearn.ipynb\" target=\"_parent\"><img src=\"https://colab.research.google.com/assets/colab-badge.svg\" alt=\"Open In Colab\"/></a>"
      ]
    },
    {
      "metadata": {
        "id": "R6gHiH-I7uFa",
        "colab_type": "text"
      },
      "cell_type": "markdown",
      "source": [
        "#Improving Computer Vision Accuracy using Convolutions\n",
        "\n",
        "In the previous lessons you saw how to do fashion recognition using a Deep Neural Network (DNN) containing three layers -- the input layer (in the shape of the data), the output layer (in the shape of the desired output) and a hidden layer. You experimented with the impact of different sized of hidden layer, number of training epochs etc on the final accuracy.\n",
        "\n",
        "For convenience, here's the entire code again. Run it and take a note of the test accuracy that is printed out at the end. "
      ]
    },
    {
      "metadata": {
        "id": "xcsRtq9OLorS",
        "colab_type": "code",
        "outputId": "07646af9-f23e-4e05-c824-22e11368bf25",
        "colab": {
          "base_uri": "https://localhost:8080/",
          "height": 221
        }
      },
      "cell_type": "code",
      "source": [
        "import tensorflow as tf\n",
        "print(tf.__version__)\n",
        "\n",
        "mnist = tf.keras.datasets.fashion_mnist\n",
        "\n",
        "( training_images, training_labels ) , ( test_images, test_labels )  = mnist.load_data()\n",
        "\n",
        "training_images  = training_images / 255.0\n",
        "test_images      =     test_images / 255.0\n",
        "\n",
        "model = tf.keras.models.Sequential([ \n",
        "    \n",
        "        tf.keras.layers.Flatten(), \n",
        "        tf.keras.layers.Dense  (128, activation=tf.nn.relu   ), \n",
        "        tf.keras.layers.Dense  ( 10, activation=tf.nn.softmax)\n",
        "])\n",
        "\n",
        "model.compile( optimizer = 'adam',\n",
        "                    loss = 'sparse_categorical_crossentropy'\n",
        "             )\n",
        "\n",
        "model.fit    ( training_images, training_labels, epochs = 5 )\n",
        "\n",
        "test_loss = model.evaluate( test_images, test_labels )"
      ],
      "execution_count": 0,
      "outputs": [
        {
          "output_type": "stream",
          "text": [
            "1.13.0-rc0\n",
            "Epoch 1/5\n",
            "60000/60000 [==============================] - 16s 261us/sample - loss: 0.4980\n",
            "Epoch 2/5\n",
            "60000/60000 [==============================] - 15s 250us/sample - loss: 0.3736\n",
            "Epoch 3/5\n",
            "60000/60000 [==============================] - 7s 124us/sample - loss: 0.3367\n",
            "Epoch 4/5\n",
            "60000/60000 [==============================] - 7s 111us/sample - loss: 0.3137\n",
            "Epoch 5/5\n",
            "60000/60000 [==============================] - 7s 112us/sample - loss: 0.2937\n",
            "10000/10000 [==============================] - 0s 46us/sample - loss: 0.3402\n"
          ],
          "name": "stdout"
        }
      ]
    },
    {
      "metadata": {
        "id": "zldEXSsF8Noz",
        "colab_type": "text"
      },
      "cell_type": "markdown",
      "source": [
        "You probably got about 72%, right? That's pretty good for a NN that you train in just a few seconds.\n",
        "\n",
        "But how do you make that even better? One way is to use something called Convolutions. I'm not going to details on Convolutions here, but the ultimate concept is that they narrow down the content of the image to focus on specific, distinct, details. \n",
        "\n",
        "If you've ever done image processing using a filter (like this: https://en.wikipedia.org/wiki/Kernel_(image_processing)) then convolutions will look very familiar.\n",
        "\n",
        "In short, you take an array (usually 3x3 or 5x5) and pass it over the image. By changing the underlying pixels based on the formula within that matrix, you can do things like edge detection. So, for example, if you look at the above link, you'll see a 3x3 that is defined for edge detection where the middle cell is 8, and all of its neighbors are -1. In this case, for each pixel, you would multiply its value by 8, then subtract the value of each neighbor. Do this for every pixel, and you'll end up with a new image that has the edges enhanced.\n",
        "\n",
        "This is perfect for computer vision, because often it's features that can get highlighted like this that distinguish one item for another, and the amount of information needed is then much less...because you'll just train on the highlighted features.\n",
        "\n",
        "That's the concept of Convolutional Neural Networks. Add some layers to do convolution before you have the dense layers, and then the information going to the dense layers is more focussed, and possibly more accurate.\n",
        "\n",
        "Run the below code -- this is the same neural network as earlier, but this time with Convolutional layers added first. It will take longer, but look at the impact on the accuracy:"
      ]
    },
    {
      "metadata": {
        "id": "C0tFgT1MMKi6",
        "colab_type": "code",
        "outputId": "65f52619-aa09-4d49-8e61-405dd1c12338",
        "colab": {
          "base_uri": "https://localhost:8080/",
          "height": 578
        }
      },
      "cell_type": "code",
      "source": [
        "import tensorflow as tf\n",
        "print(tf.__version__)\n",
        "\n",
        "mnist = tf.keras.datasets.fashion_mnist\n",
        "\n",
        "( training_images, training_labels ) , ( test_images, test_labels )  = mnist.load_data()\n",
        "\n",
        "training_images = training_images.reshape( 60000, 28, 28, 1 )\n",
        "test_images     =     test_images.reshape( 10000, 28, 28, 1 )\n",
        "\n",
        "training_images = training_images/255.0\n",
        "test_images     =     test_images/255.0\n",
        "\n",
        "model = tf.keras.models.Sequential([\n",
        "    \n",
        "        tf.keras.layers.Conv2D       ( 64, (3,3), activation='relu'   , input_shape=(28, 28, 1)),\n",
        "        tf.keras.layers.MaxPooling2D       (2,2), \n",
        "    \n",
        "        tf.keras.layers.Conv2D       ( 64, (3,3), activation='relu'  ),\n",
        "        tf.keras.layers.MaxPooling2D       (2,2),\n",
        "    \n",
        "        tf.keras.layers.Flatten      (),\n",
        "    \n",
        "        tf.keras.layers.Dense        (128,        activation='relu'  ),\n",
        "        tf.keras.layers.Dense        ( 10,        activation='softmax')\n",
        "     \n",
        "])\n",
        "\n",
        "model.compile( optimizer  = 'adam', \n",
        "                     loss = 'sparse_categorical_crossentropy'\n",
        "             )\n",
        "\n",
        "model.summary()\n",
        "\n",
        "model.fit( training_images, training_labels, epochs = 5 )\n",
        "\n",
        "test_loss = model.evaluate( test_images, test_labels )\n"
      ],
      "execution_count": 0,
      "outputs": [
        {
          "output_type": "stream",
          "text": [
            "1.13.0-rc0\n",
            "_________________________________________________________________\n",
            "Layer (type)                 Output Shape              Param #   \n",
            "=================================================================\n",
            "conv2d_2 (Conv2D)            (None, 26, 26, 64)        640       \n",
            "_________________________________________________________________\n",
            "max_pooling2d_2 (MaxPooling2 (None, 13, 13, 64)        0         \n",
            "_________________________________________________________________\n",
            "conv2d_3 (Conv2D)            (None, 11, 11, 64)        36928     \n",
            "_________________________________________________________________\n",
            "max_pooling2d_3 (MaxPooling2 (None, 5, 5, 64)          0         \n",
            "_________________________________________________________________\n",
            "flatten_3 (Flatten)          (None, 1600)              0         \n",
            "_________________________________________________________________\n",
            "dense_5 (Dense)              (None, 128)               204928    \n",
            "_________________________________________________________________\n",
            "dense_6 (Dense)              (None, 10)                1290      \n",
            "=================================================================\n",
            "Total params: 243,786\n",
            "Trainable params: 243,786\n",
            "Non-trainable params: 0\n",
            "_________________________________________________________________\n",
            "Epoch 1/5\n",
            "60000/60000 [==============================] - 104s 2ms/sample - loss: 0.4387\n",
            "Epoch 2/5\n",
            "60000/60000 [==============================] - 103s 2ms/sample - loss: 0.2936\n",
            "Epoch 3/5\n",
            "60000/60000 [==============================] - 102s 2ms/sample - loss: 0.2497\n",
            "Epoch 4/5\n",
            "60000/60000 [==============================] - 102s 2ms/sample - loss: 0.2179\n",
            "Epoch 5/5\n",
            "60000/60000 [==============================] - 102s 2ms/sample - loss: 0.1893\n",
            "10000/10000 [==============================] - 5s 480us/sample - loss: 0.2501\n"
          ],
          "name": "stdout"
        }
      ]
    },
    {
      "metadata": {
        "id": "uRLfZ0jt-fQI",
        "colab_type": "text"
      },
      "cell_type": "markdown",
      "source": [
        "It's likely gone up to about 81%. In my case the validation loss went from .35 to .25, increasing the test set's accuracy to 75% from 65%.\n",
        "\n",
        "That's significant, and a step in the right direction!\n",
        "\n",
        "Try running it for more epochs -- say about 20, and explore the results! But while the results might seem really good, the validation results may actually go down, due to something called 'overfitting' which will be discussed later. \n",
        "\n",
        "(In a nutshell, 'overfitting' occurs when the network learns the data from the training set really well, but it's too specialised to only that data, and as a result is less effective at seeing *other* data. For example, if all your life you only saw red shoes, then when you see a red shoe you would be very good at identifying it, but blue suade shoes might confuse you...and you know you should never mess with my blue suede shoes.)\n",
        "\n",
        "Then, look at the code again, and see, step by step how the Convolutions were built:"
      ]
    },
    {
      "metadata": {
        "id": "RaLX5cgI_JDb",
        "colab_type": "text"
      },
      "cell_type": "markdown",
      "source": [
        "Step 1 is to gather the data. You'll notice that there's a bit of a change here in that the training data needed to be reshaped. That's because the first convolution expects a single tensor containing everything, so instead of 60,000 28x28x1 items in a list, we have a single 4D list that is 60,000x28x28x1, and the same for the test images. If you don't do this, you'll get an error when training as the Convolutions do not recognize the shape. \n",
        "\n",
        "\n",
        "\n",
        "```\n",
        "import tensorflow as tf\n",
        "mnist = tf.keras.datasets.fashion_mnist\n",
        "(training_images, training_labels), (test_images, test_labels) = mnist.load_data()\n",
        "training_images=training_images.reshape(60000, 28, 28, 1)\n",
        "training_images=training_images / 255.0\n",
        "test_images = test_images.reshape(10000, 28, 28, 1)\n",
        "test_images=test_images/255.0\n",
        "```\n",
        "\n"
      ]
    },
    {
      "metadata": {
        "id": "SS_W_INc_kJQ",
        "colab_type": "text"
      },
      "cell_type": "markdown",
      "source": [
        "Next is to define your model. Now instead of the input layer at the top, you're going to add a Convolution. The parameters are:\n",
        "\n",
        "1. The number of convolutions you want to generate. Purely arbitrary, but good to start with something in the order of 32\n",
        "2. The size of the Convolution, in this case a 3x3 grid\n",
        "3. The activation function to use -- in this case we'll use relu, which you might recall is the equivalent of returning x when x>0, else returning 0\n",
        "4. In the first layer, the shape of the input data.\n",
        "\n",
        "You'll follow the Convolution with a MaxPooling layer which is then designed to compress the image, while maintaining the content of the features that were highlighted by the convlution. By specifying (2,2) for the MaxPooling, the effect is to quarter the size of the image. Without going into too much detail here, the idea is that it creates a 2x2 array of pixels, and picks the biggest one, thus turning 4 pixels into 1. It repeats this across the image, and in so doing halves the number of horizontal, and halves the number of vertical pixels, effectively reducing the image by 25%.\n",
        "\n",
        "You can call model.summary() to see the size and shape of the network, and you'll notice that after every MaxPooling layer, the image size is reduced in this way. \n",
        "\n",
        "\n",
        "```\n",
        "model = tf.keras.models.Sequential([\n",
        "  tf.keras.layers.Conv2D(32, (3,3), activation='relu', input_shape=(28, 28, 1)),\n",
        "  tf.keras.layers.MaxPooling2D(2, 2),\n",
        "```\n",
        "\n"
      ]
    },
    {
      "metadata": {
        "id": "RMorM6daADjA",
        "colab_type": "text"
      },
      "cell_type": "markdown",
      "source": [
        "Add another convolution\n",
        "\n",
        "\n",
        "\n",
        "```\n",
        "  tf.keras.layers.Conv2D(64, (3,3), activation='relu'),\n",
        "  tf.keras.layers.MaxPooling2D(2,2)\n",
        "```\n",
        "\n"
      ]
    },
    {
      "metadata": {
        "colab_type": "text",
        "id": "b1-x-kZF4_tC"
      },
      "cell_type": "markdown",
      "source": [
        "Now flatten the output. After this you'll just have the same DNN structure as the non convolutional version\n",
        "\n",
        "```\n",
        "  tf.keras.layers.Flatten(),\n",
        "```\n",
        "\n"
      ]
    },
    {
      "metadata": {
        "id": "qPtqR23uASjX",
        "colab_type": "text"
      },
      "cell_type": "markdown",
      "source": [
        "The same 128 dense layers, and 10 output layers as in the pre-convolution example:\n",
        "\n",
        "\n",
        "\n",
        "```\n",
        "  tf.keras.layers.Dense(128, activation='relu'),\n",
        "  tf.keras.layers.Dense(10, activation='softmax')\n",
        "])\n",
        "```\n",
        "\n"
      ]
    },
    {
      "metadata": {
        "id": "C0GSsjUhAaSj",
        "colab_type": "text"
      },
      "cell_type": "markdown",
      "source": [
        "Now compile the model, call the fit method to do the training, and evaluate the loss and accuracy from the test set.\n",
        "\n",
        "\n",
        "\n",
        "```\n",
        "model.compile(optimizer='adam', loss='sparse_categorical_crossentropy', metrics=['accuracy'])\n",
        "model.fit(training_images, training_labels, epochs=5)\n",
        "test_loss, test_acc = model.evaluate(test_images, test_labels)\n",
        "print(test_acc)\n",
        "```\n",
        "\n",
        "\n"
      ]
    },
    {
      "metadata": {
        "id": "IXx_LX3SAlFs",
        "colab_type": "text"
      },
      "cell_type": "markdown",
      "source": [
        "# Visualizing the Convolutions and Pooling\n",
        "\n",
        "This code will show us the convolutions graphically. The print (test_labels[;100]) shows us the first 100 labels in the test set, and you can see that the ones at index 0, index 23 and index 28 are all the same value (9). They're all shoes. Let's take a look at the result of running the convolution on each, and you'll begin to see common features between them emerge. Now, when the DNN is training on that data, it's working with a lot less, and it's perhaps finding a commonality between shoes based on this convolution/pooling combination."
      ]
    },
    {
      "metadata": {
        "id": "f-6nX4QsOku6",
        "colab_type": "code",
        "outputId": "901831c7-3969-4991-f8d5-1661c5f73b32",
        "colab": {
          "base_uri": "https://localhost:8080/",
          "height": 68
        }
      },
      "cell_type": "code",
      "source": [
        "print(test_labels[:100])"
      ],
      "execution_count": 0,
      "outputs": [
        {
          "output_type": "stream",
          "text": [
            "[9 2 1 1 6 1 4 6 5 7 4 5 7 3 4 1 2 4 8 0 2 5 7 9 1 4 6 0 9 3 8 8 3 3 8 0 7\n",
            " 5 7 9 6 1 3 7 6 7 2 1 2 2 4 4 5 8 2 2 8 4 8 0 7 7 8 5 1 1 2 3 9 8 7 0 2 6\n",
            " 2 3 1 2 8 4 1 8 5 9 5 0 3 2 0 6 5 3 6 7 1 8 0 1 4 2]\n"
          ],
          "name": "stdout"
        }
      ]
    },
    {
      "metadata": {
        "id": "9FGsHhv6JvDx",
        "colab_type": "code",
        "outputId": "3a4c5cc6-557a-436b-bbd3-43af0ad3286c",
        "colab": {
          "base_uri": "https://localhost:8080/",
          "height": 349
        }
      },
      "cell_type": "code",
      "source": [
        "import matplotlib.pyplot as plt\n",
        "\n",
        "f, axarr = plt.subplots(3,4)\n",
        "\n",
        "FIRST_IMAGE        =  0\n",
        "SECOND_IMAGE       =  7\n",
        "THIRD_IMAGE        = 26\n",
        "CONVOLUTION_NUMBER =  1\n",
        "\n",
        "from tensorflow.keras import models\n",
        "\n",
        "layer_outputs    = [layer.output for layer in model.layers]\n",
        "activation_model = tf.keras.models.Model(inputs = model.input, outputs = layer_outputs)\n",
        "\n",
        "for x in range(0,4):\n",
        "  \n",
        "  f1 = activation_model.predict(test_images[ FIRST_IMAGE].reshape(1, 28, 28, 1))[x]\n",
        "  f2 = activation_model.predict(test_images[SECOND_IMAGE].reshape(1, 28, 28, 1))[x]\n",
        "  f3 = activation_model.predict(test_images[ THIRD_IMAGE].reshape(1, 28, 28, 1))[x]\n",
        "\n",
        "  axarr[0,x].imshow(f1[0, : , :, CONVOLUTION_NUMBER], cmap='inferno')\n",
        "  axarr[0,x].grid(False)\n",
        "\n",
        "  axarr[1,x].imshow(f2[0, : , :, CONVOLUTION_NUMBER], cmap='inferno')\n",
        "  axarr[1,x].grid(False)\n",
        "  \n",
        "  axarr[2,x].imshow(f3[0, : , :, CONVOLUTION_NUMBER], cmap='inferno')\n",
        "  axarr[2,x].grid(False)"
      ],
      "execution_count": 0,
      "outputs": [
        {
          "output_type": "display_data",
          "data": {
            "image/png": "[encoded data removed]",
            "text/plain": [
              "<Figure size 576x396 with 12 Axes>"
            ]
          },
          "metadata": {
            "tags": []
          }
        }
      ]
    },
    {
      "metadata": {
        "id": "8KVPZqgHo5Ux",
        "colab_type": "text"
      },
      "cell_type": "markdown",
      "source": [
        "EXERCISES\n",
        "\n",
        "1. Try editing the convolutions. Change the 32s to either 16 or 64. What impact will this have on accuracy and/or training time.\n",
        "\n",
        "2. Remove the final Convolution. What impact will this have on accuracy or training time?\n",
        "\n",
        "3. How about adding more Convolutions? What impact do you think this will have? Experiment with it.\n",
        "\n",
        "4. Remove all Convolutions but the first. What impact do you think this will have? Experiment with it. \n",
        "\n",
        "5. In the previous lesson you implemented a callback to check on the loss function and to cancel training once it hit a certain amount. See if you can implement that here!"
      ]
    },
    {
      "metadata": {
        "id": "ZpYRidBXpBPM",
        "colab_type": "code",
        "outputId": "94e0f4de-061c-4777-e56a-e1144a6751e5",
        "colab": {
          "base_uri": "https://localhost:8080/",
          "height": 238
        }
      },
      "cell_type": "code",
      "source": [
        "import tensorflow as tf\n",
        "print(tf.__version__)\n",
        "\n",
        "mnist = tf.keras.datasets.mnist\n",
        "(training_images, training_labels), (test_images, test_labels) = mnist.load_data()\n",
        "\n",
        "training_images = training_images.reshape(60000, 28, 28, 1)\n",
        "test_images     =     test_images.reshape(10000, 28, 28, 1)\n",
        "\n",
        "training_images = training_images/255.0\n",
        "test_images     =     test_images/255.0\n",
        "\n",
        "model = tf.keras.models.Sequential([\n",
        "    \n",
        "        tf.keras.layers.Conv2D      (32,  (3,3), activation='relu', input_shape=(28, 28, 1)),\n",
        "        tf.keras.layers.MaxPooling2D      (2,2),\n",
        "    \n",
        "        tf.keras.layers.Conv2D      (64,  (3,3), activation='relu'   ),\n",
        "        tf.keras.layers.MaxPooling2D      (2,2),\n",
        "    \n",
        "        tf.keras.layers.Conv2D      (64,  (3,3), activation='relu'   ),\n",
        "    \n",
        "        tf.keras.layers.Flatten     (),\n",
        "    \n",
        "        tf.keras.layers.Dense      (128,         activation='relu'   ),\n",
        "        tf.keras.layers.Dense      ( 10,         activation='softmax')\n",
        "])\n",
        "\n",
        "model.compile( optimizer =  'adam', \n",
        "               loss      =  'sparse_categorical_crossentropy', \n",
        "               metrics   = ['accuracy']\n",
        "             )\n",
        "\n",
        "model.fit( training_images, training_labels, epochs = 5 )\n",
        "\n",
        "test_loss, test_acc = model.evaluate( test_images, test_labels )\n",
        "\n",
        "print(\"test accuracy = \", test_acc )"
      ],
      "execution_count": 0,
      "outputs": [
        {
          "output_type": "stream",
          "text": [
            "1.13.0-rc0\n",
            "Epoch 1/5\n",
            "60000/60000 [==============================] - 67s 1ms/sample - loss: 0.1372 - acc: 0.9570\n",
            "Epoch 2/5\n",
            "60000/60000 [==============================] - 66s 1ms/sample - loss: 0.0446 - acc: 0.9864\n",
            "Epoch 3/5\n",
            "60000/60000 [==============================] - 65s 1ms/sample - loss: 0.0309 - acc: 0.9906\n",
            "Epoch 4/5\n",
            "60000/60000 [==============================] - 66s 1ms/sample - loss: 0.0243 - acc: 0.9926\n",
            "Epoch 5/5\n",
            "60000/60000 [==============================] - 66s 1ms/sample - loss: 0.0194 - acc: 0.9939\n",
            "10000/10000 [==============================] - 4s 364us/sample - loss: 0.0292 - acc: 0.9913\n",
            "0.9913\n"
          ],
          "name": "stdout"
        }
      ]
    },
    {
      "metadata": {
        "id": "oQwg7Wiu6Iio",
        "colab_type": "code",
        "colab": {}
      },
      "cell_type": "code",
      "source": [
        ""
      ],
      "execution_count": 0,
      "outputs": []
    }
  ]
}